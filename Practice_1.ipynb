{
  "nbformat": 4,
  "nbformat_minor": 0,
  "metadata": {
    "colab": {
      "provenance": []
    },
    "kernelspec": {
      "name": "python3",
      "display_name": "Python 3"
    },
    "language_info": {
      "name": "python"
    }
  },
  "cells": [
    {
      "cell_type": "code",
      "execution_count": 1,
      "metadata": {
        "colab": {
          "base_uri": "https://localhost:8080/"
        },
        "id": "WpRsuM_Gpqxh",
        "outputId": "0b9f88cb-f6b3-4290-ed36-d9f5b37399e4"
      },
      "outputs": [
        {
          "output_type": "stream",
          "name": "stdout",
          "text": [
            "Hello world\n"
          ]
        }
      ],
      "source": [
        "print(\"Hello world\")"
      ]
    },
    {
      "cell_type": "code",
      "source": [
        "#int type\n",
        "x = 50\n",
        "print(x)\n",
        "print(type(x))\n",
        "\n",
        "#float type\n",
        "x = 34.5\n",
        "print(x)\n",
        "print(type(x))\n",
        "\n",
        "#boo type\n",
        "x = True\n",
        "print(x)\n",
        "print(type(x))\n",
        "\n",
        "#str type\n",
        "x = \"Hello World\"\n",
        "print(x)\n",
        "print(type(x))"
      ],
      "metadata": {
        "colab": {
          "base_uri": "https://localhost:8080/"
        },
        "id": "GBu8-3sDqB3i",
        "outputId": "ce94558e-d4d4-4440-f0dd-359cfdf5792e"
      },
      "execution_count": 2,
      "outputs": [
        {
          "output_type": "stream",
          "name": "stdout",
          "text": [
            "50\n",
            "<class 'int'>\n",
            "34.5\n",
            "<class 'float'>\n",
            "True\n",
            "<class 'bool'>\n",
            "Hello World\n",
            "<class 'str'>\n"
          ]
        }
      ]
    },
    {
      "cell_type": "code",
      "source": [
        "x = 15\n",
        "y = 2\n",
        "z1 = x + y\n",
        "z2 = x - y\n",
        "z3 = x * y\n",
        "z4 = x / y\n",
        "z5 = x // y # Floor Division\n",
        "z6 = x % y # Modulus\n",
        "z7 = x ** y # Exponentation\n",
        "print(z1)\n",
        "print(z2)\n",
        "print(z3)\n",
        "print(z4)\n",
        "print(z5)\n",
        "print(z6)\n",
        "print(z7)"
      ],
      "metadata": {
        "colab": {
          "base_uri": "https://localhost:8080/"
        },
        "id": "jV7rXyPjqEMR",
        "outputId": "08eddfe2-ec5f-4284-e2a1-3c780979ed9c"
      },
      "execution_count": 3,
      "outputs": [
        {
          "output_type": "stream",
          "name": "stdout",
          "text": [
            "17\n",
            "13\n",
            "30\n",
            "7.5\n",
            "7\n",
            "1\n",
            "225\n"
          ]
        }
      ]
    },
    {
      "cell_type": "code",
      "source": [
        "a = 10\n",
        "b = 20\n",
        "print(a)\n",
        "print(b)"
      ],
      "metadata": {
        "colab": {
          "base_uri": "https://localhost:8080/"
        },
        "id": "cICFwQNyqLio",
        "outputId": "62c23d86-05c6-4df5-cbeb-03b991522e98"
      },
      "execution_count": 4,
      "outputs": [
        {
          "output_type": "stream",
          "name": "stdout",
          "text": [
            "10\n",
            "20\n"
          ]
        }
      ]
    },
    {
      "cell_type": "code",
      "source": [
        "age = 27\n",
        "Age = 56\n",
        "AGE = 34\n",
        "print(age)\n",
        "print(Age)\n",
        "print(AGE)\n",
        "print(AGe)"
      ],
      "metadata": {
        "colab": {
          "base_uri": "https://localhost:8080/",
          "height": 228
        },
        "id": "jX7fLQsCqQBa",
        "outputId": "113d7248-4c4f-49c9-a13a-8c647bacb4c3"
      },
      "execution_count": 5,
      "outputs": [
        {
          "output_type": "stream",
          "name": "stdout",
          "text": [
            "27\n",
            "56\n",
            "34\n"
          ]
        },
        {
          "output_type": "error",
          "ename": "NameError",
          "evalue": "name 'AGe' is not defined",
          "traceback": [
            "\u001b[0;31m---------------------------------------------------------------------------\u001b[0m",
            "\u001b[0;31mNameError\u001b[0m                                 Traceback (most recent call last)",
            "\u001b[0;32m<ipython-input-5-f11dd927673e>\u001b[0m in \u001b[0;36m<cell line: 7>\u001b[0;34m()\u001b[0m\n\u001b[1;32m      5\u001b[0m \u001b[0mprint\u001b[0m\u001b[0;34m(\u001b[0m\u001b[0mAge\u001b[0m\u001b[0;34m)\u001b[0m\u001b[0;34m\u001b[0m\u001b[0;34m\u001b[0m\u001b[0m\n\u001b[1;32m      6\u001b[0m \u001b[0mprint\u001b[0m\u001b[0;34m(\u001b[0m\u001b[0mAGE\u001b[0m\u001b[0;34m)\u001b[0m\u001b[0;34m\u001b[0m\u001b[0;34m\u001b[0m\u001b[0m\n\u001b[0;32m----> 7\u001b[0;31m \u001b[0mprint\u001b[0m\u001b[0;34m(\u001b[0m\u001b[0mAGe\u001b[0m\u001b[0;34m)\u001b[0m\u001b[0;34m\u001b[0m\u001b[0;34m\u001b[0m\u001b[0m\n\u001b[0m",
            "\u001b[0;31mNameError\u001b[0m: name 'AGe' is not defined"
          ]
        }
      ]
    },
    {
      "cell_type": "code",
      "source": [
        "x = int(input(\"Enter value 1 \"))\n",
        "y = int(input(\"Enter value 2 \"))\n",
        "z = int(input(\"Enter value 3 \"))\n",
        "\n",
        "minimum = min(x,y,z)\n",
        "maximum = max(x,y,z)\n",
        "\n",
        "print (\"Minimum value is \", minimum)\n",
        "print (\"Maximum value is \", maximum)\n"
      ],
      "metadata": {
        "colab": {
          "base_uri": "https://localhost:8080/"
        },
        "id": "QmBckczlqW2g",
        "outputId": "ead9fb5b-3f5c-4f78-d3cd-c64929e1739f"
      },
      "execution_count": 6,
      "outputs": [
        {
          "output_type": "stream",
          "name": "stdout",
          "text": [
            "Enter value 1 25\n",
            "Enter value 2 26\n",
            "Enter value 3 86\n",
            "Minimum value is  25\n",
            "Maximum value is  86\n"
          ]
        }
      ]
    },
    {
      "cell_type": "code",
      "source": [
        "sum = 0\n",
        "Number1 = int(input(\"Enter Number1 \"))\n",
        "Number2 = int(input(\"Enter Number2 \"))\n",
        "\n",
        "sum = Number1 + Number2\n",
        "\n",
        "print(\"sum is :\",sum)"
      ],
      "metadata": {
        "colab": {
          "base_uri": "https://localhost:8080/"
        },
        "id": "rfUI0t4bqi9Z",
        "outputId": "8cba13e8-eb8d-41b9-e3f7-2ff1cee79f50"
      },
      "execution_count": 10,
      "outputs": [
        {
          "output_type": "stream",
          "name": "stdout",
          "text": [
            "Enter Number1 56\n",
            "Enter Number2 45\n",
            "sum is : 101\n"
          ]
        }
      ]
    },
    {
      "cell_type": "code",
      "source": [
        "length = int(input(\"Enter Length \"))\n",
        "width = int(input(\"Enter Width \"))\n",
        "\n",
        "area = length * width\n",
        "perimeter = (2*length) + (2*width)\n",
        "\n",
        "print (\"Area is \", area)\n",
        "print (\"Perimeter is \", perimeter)"
      ],
      "metadata": {
        "colab": {
          "base_uri": "https://localhost:8080/"
        },
        "id": "QwS7lDCgq_Xg",
        "outputId": "9544d9a4-199a-4da0-ac21-41b6f0f039cb"
      },
      "execution_count": 11,
      "outputs": [
        {
          "output_type": "stream",
          "name": "stdout",
          "text": [
            "Enter Length 78\n",
            "Enter Width 65\n",
            "Area is  5070\n",
            "Perimeter is  286\n"
          ]
        }
      ]
    },
    {
      "cell_type": "code",
      "source": [
        "length = int(input(\"Enter Length \"))\n",
        "width = int(input(\"Enter Width \"))\n",
        "\n",
        "if length == width:\n",
        "\t print (\"Figure is a square\")"
      ],
      "metadata": {
        "colab": {
          "base_uri": "https://localhost:8080/"
        },
        "id": "7j1pOfbyrIcH",
        "outputId": "bb2b6105-fbbd-42b5-baed-0f85f7649813"
      },
      "execution_count": 16,
      "outputs": [
        {
          "output_type": "stream",
          "name": "stdout",
          "text": [
            "Enter Length 15\n",
            "Enter Width 15\n",
            "Figure is a square\n"
          ]
        }
      ]
    },
    {
      "cell_type": "code",
      "source": [
        "length = int(input(\"Enter Length \"))\n",
        "width = int(input(\"Enter Width \"))\n",
        "\n",
        "if length == width:\n",
        "\t print (\"Figure is a square\")\n",
        "else:\n",
        "\t print (\"Figure is a rectangle\")"
      ],
      "metadata": {
        "colab": {
          "base_uri": "https://localhost:8080/"
        },
        "id": "8wffQ3ztrUxm",
        "outputId": "173f1aa8-a3a1-4884-9180-3b9663adde57"
      },
      "execution_count": 17,
      "outputs": [
        {
          "output_type": "stream",
          "name": "stdout",
          "text": [
            "Enter Length 12\n",
            "Enter Width 14\n",
            "Figure is a rectangle\n"
          ]
        }
      ]
    },
    {
      "cell_type": "code",
      "source": [
        "DOB = int(input(\"Enter year of birth \"))\n",
        "\n",
        "age = 2022 - DOB\n",
        "\n",
        "if age >= 18:\n",
        "\t print (\"You are an adult..\")\n",
        "else:\n",
        "\t print (\"You are a child..\")"
      ],
      "metadata": {
        "colab": {
          "base_uri": "https://localhost:8080/"
        },
        "id": "bPOKx7wdrcJP",
        "outputId": "d655bec9-bd94-4740-8143-6cb70a9a836b"
      },
      "execution_count": 18,
      "outputs": [
        {
          "output_type": "stream",
          "name": "stdout",
          "text": [
            "Enter year of birth 2001\n",
            "You are an adult..\n"
          ]
        }
      ]
    },
    {
      "cell_type": "code",
      "source": [
        "number = 1\n",
        "\n",
        "while number <= 100:\n",
        "\tprint (number)\n",
        "\tnumber = number + 1"
      ],
      "metadata": {
        "colab": {
          "base_uri": "https://localhost:8080/"
        },
        "id": "0AM14ozLrpbu",
        "outputId": "cd2332a5-86b2-4867-8fbb-e3f829f44a3a"
      },
      "execution_count": 19,
      "outputs": [
        {
          "output_type": "stream",
          "name": "stdout",
          "text": [
            "1\n",
            "2\n",
            "3\n",
            "4\n",
            "5\n",
            "6\n",
            "7\n",
            "8\n",
            "9\n",
            "10\n",
            "11\n",
            "12\n",
            "13\n",
            "14\n",
            "15\n",
            "16\n",
            "17\n",
            "18\n",
            "19\n",
            "20\n",
            "21\n",
            "22\n",
            "23\n",
            "24\n",
            "25\n",
            "26\n",
            "27\n",
            "28\n",
            "29\n",
            "30\n",
            "31\n",
            "32\n",
            "33\n",
            "34\n",
            "35\n",
            "36\n",
            "37\n",
            "38\n",
            "39\n",
            "40\n",
            "41\n",
            "42\n",
            "43\n",
            "44\n",
            "45\n",
            "46\n",
            "47\n",
            "48\n",
            "49\n",
            "50\n",
            "51\n",
            "52\n",
            "53\n",
            "54\n",
            "55\n",
            "56\n",
            "57\n",
            "58\n",
            "59\n",
            "60\n",
            "61\n",
            "62\n",
            "63\n",
            "64\n",
            "65\n",
            "66\n",
            "67\n",
            "68\n",
            "69\n",
            "70\n",
            "71\n",
            "72\n",
            "73\n",
            "74\n",
            "75\n",
            "76\n",
            "77\n",
            "78\n",
            "79\n",
            "80\n",
            "81\n",
            "82\n",
            "83\n",
            "84\n",
            "85\n",
            "86\n",
            "87\n",
            "88\n",
            "89\n",
            "90\n",
            "91\n",
            "92\n",
            "93\n",
            "94\n",
            "95\n",
            "96\n",
            "97\n",
            "98\n",
            "99\n",
            "100\n"
          ]
        }
      ]
    },
    {
      "cell_type": "code",
      "source": [
        "iteration = 1\n",
        "total = 0\n",
        "\n",
        "while iteration <= 10:\n",
        "\tnumber = int(input(\"Enter number \" ))\n",
        "\ttotal = total + number\n",
        "\titeration = iteration + 1\n",
        "\n",
        "print (\"Sum is \", total)"
      ],
      "metadata": {
        "colab": {
          "base_uri": "https://localhost:8080/"
        },
        "id": "8ib-Ynndrr5K",
        "outputId": "1080796d-a31e-498f-99e6-47b071a38475"
      },
      "execution_count": 20,
      "outputs": [
        {
          "output_type": "stream",
          "name": "stdout",
          "text": [
            "Enter number 12\n",
            "Enter number 56\n",
            "Enter number 55\n",
            "Enter number 23\n",
            "Enter number 41\n",
            "Enter number 53\n",
            "Enter number 48\n",
            "Enter number 74\n",
            "Enter number 96\n",
            "Enter number 66\n",
            "Sum is  524\n"
          ]
        }
      ]
    },
    {
      "cell_type": "code",
      "source": [
        "# Create a python program to input marks of 10 students and print the maximum mark, minimum mark and average mark of the students.\n",
        "x=1\n",
        "mark=[]\n",
        "while x<= 10:\n",
        "    number = int(input(f\"student {x}: \"))\n",
        "    mark.append(number)\n",
        "    x=x+1\n",
        "maximum=max(mark)\n",
        "minimum=min(mark)\n",
        "average=sum(mark)/len(mark)\n",
        "print(\"Maximum mark is : \",maximum)\n",
        "print(\"Minimum mark is : \",minimum)\n",
        "print(\"Average is : \",average)"
      ],
      "metadata": {
        "colab": {
          "base_uri": "https://localhost:8080/"
        },
        "id": "ErmEcCCHsDTz",
        "outputId": "951c1781-c053-4503-b120-fc99da3d1f05"
      },
      "execution_count": 3,
      "outputs": [
        {
          "output_type": "stream",
          "name": "stdout",
          "text": [
            "student 1: 55\n",
            "student 2: 45\n",
            "student 3: 85\n",
            "student 4: 78\n",
            "student 5: 46\n",
            "student 6: 77\n",
            "student 7: 85\n",
            "student 8: 55\n",
            "student 9: 66\n",
            "student 10: 99\n",
            "Maximum mark is :  99\n",
            "Minimum mark is :  45\n",
            "Average is :  69.1\n"
          ]
        }
      ]
    },
    {
      "cell_type": "code",
      "source": [
        "def determine_grade(mark):\n",
        "    if mark > 75:\n",
        "        return \"A\"\n",
        "    elif 65 <= mark <= 75:\n",
        "        return \"B\"\n",
        "    elif 55 <= mark <= 64:\n",
        "        return \"C\"\n",
        "    elif 45 <= mark <= 54:\n",
        "        return \"S\"\n",
        "    else:\n",
        "        return \"F\"\n",
        "\n",
        "marks = []\n",
        "x = 1\n",
        "while x <= 5:\n",
        "        mark = float(input(f\"Enter mark {x}: \"))\n",
        "        if 0 <= mark <= 100:\n",
        "            marks.append(mark)\n",
        "            x=x+1\n",
        "\n",
        "print(\"Grades:\")\n",
        "x = 1\n",
        "while x<= 5:\n",
        "    grade = determine_grade(marks[x - 1])\n",
        "    print(f\"Mark {x}: {marks[x - 1]} - Grade: {grade}\")\n",
        "    x=x+1\n"
      ],
      "metadata": {
        "colab": {
          "base_uri": "https://localhost:8080/"
        },
        "id": "jH_8P4e_xhRE",
        "outputId": "e786205d-ac29-4f53-dbd2-58bf7ef9289f"
      },
      "execution_count": 12,
      "outputs": [
        {
          "output_type": "stream",
          "name": "stdout",
          "text": [
            "Enter mark 1: 85\n",
            "Enter mark 2: 87\n",
            "Enter mark 3: 84\n",
            "Enter mark 4: 81\n",
            "Enter mark 5: 82\n",
            "Grades:\n",
            "Mark 1: 85.0 - Grade: A\n",
            "Mark 2: 87.0 - Grade: A\n",
            "Mark 3: 84.0 - Grade: A\n",
            "Mark 4: 81.0 - Grade: A\n",
            "Mark 5: 82.0 - Grade: A\n"
          ]
        }
      ]
    },
    {
      "cell_type": "code",
      "source": [
        "def calculate_sum():\n",
        "    total = 0\n",
        "    while True:\n",
        "        try:\n",
        "            number = int(input(\"Enter a number (-999 to stop): \"))\n",
        "            if number == -999:\n",
        "                break\n",
        "            total += number\n",
        "        except ValueError:\n",
        "            print(\"Invalid input. Please enter a number.\")\n",
        "    return total\n",
        "\n",
        "print(\"The sum of the numbers is:\", calculate_sum())\n"
      ],
      "metadata": {
        "colab": {
          "base_uri": "https://localhost:8080/"
        },
        "id": "eFnVzC_K3e5N",
        "outputId": "ba6706b7-95eb-45ca-daac-c60a6366d62d"
      },
      "execution_count": null,
      "outputs": [
        {
          "output_type": "stream",
          "name": "stdout",
          "text": [
            "Enter a number (-999 to stop): 85\n",
            "Enter a number (-999 to stop): 65\n",
            "Enter a number (-999 to stop): -88\n",
            "Enter a number (-999 to stop): =1000\n",
            "Invalid input. Please enter a number.\n"
          ]
        }
      ]
    }
  ]
}